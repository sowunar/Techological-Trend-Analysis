{
 "cells": [
  {
   "cell_type": "markdown",
   "id": "ae59e4b6",
   "metadata": {
    "papermill": {
     "duration": 0.011968,
     "end_time": "2022-05-24T07:30:19.414992",
     "exception": false,
     "start_time": "2022-05-24T07:30:19.403024",
     "status": "completed"
    },
    "tags": []
   },
   "source": [
    "**Web-Scraping-Lab**\n",
    "\n",
    "scrape data of programming languages and the associated average salary from a URL"
   ]
  },
  {
   "cell_type": "markdown",
   "id": "c21ecb83",
   "metadata": {
    "papermill": {
     "duration": 0.010375,
     "end_time": "2022-05-24T07:30:19.436999",
     "exception": false,
     "start_time": "2022-05-24T07:30:19.426624",
     "status": "completed"
    },
    "tags": []
   },
   "source": [
    "import the modules needed"
   ]
  },
  {
   "cell_type": "code",
   "execution_count": 1,
   "id": "276257b8",
   "metadata": {
    "_cell_guid": "b1076dfc-b9ad-4769-8c92-a6c4dae69d19",
    "_uuid": "8f2839f25d086af736a60e9eeb907d3b93b6e0e5",
    "execution": {
     "iopub.execute_input": "2022-05-24T07:30:19.461142Z",
     "iopub.status.busy": "2022-05-24T07:30:19.460375Z",
     "iopub.status.idle": "2022-05-24T07:30:19.809380Z",
     "shell.execute_reply": "2022-05-24T07:30:19.808738Z"
    },
    "papermill": {
     "duration": 0.364639,
     "end_time": "2022-05-24T07:30:19.812289",
     "exception": false,
     "start_time": "2022-05-24T07:30:19.447650",
     "status": "completed"
    },
    "tags": []
   },
   "outputs": [],
   "source": [
    "from bs4 import BeautifulSoup # this module helps in web scrapping.\n",
    "import requests  # this module helps us to download a web page\n",
    "import pandas as pd"
   ]
  },
  {
   "cell_type": "code",
   "execution_count": 2,
   "id": "b90559d1",
   "metadata": {
    "execution": {
     "iopub.execute_input": "2022-05-24T07:30:19.836379Z",
     "iopub.status.busy": "2022-05-24T07:30:19.835759Z",
     "iopub.status.idle": "2022-05-24T07:30:19.839811Z",
     "shell.execute_reply": "2022-05-24T07:30:19.839054Z"
    },
    "papermill": {
     "duration": 0.018363,
     "end_time": "2022-05-24T07:30:19.841746",
     "exception": false,
     "start_time": "2022-05-24T07:30:19.823383",
     "status": "completed"
    },
    "tags": []
   },
   "outputs": [],
   "source": [
    "#this url contains the data you need to scrape\n",
    "url = \"https://cf-courses-data.s3.us.cloud-object-storage.appdomain.cloud/IBM-DA0321EN-SkillsNetwork/labs/datasets/Programming_Languages.html\""
   ]
  },
  {
   "cell_type": "code",
   "execution_count": 3,
   "id": "d5191090",
   "metadata": {
    "execution": {
     "iopub.execute_input": "2022-05-24T07:30:19.865425Z",
     "iopub.status.busy": "2022-05-24T07:30:19.864761Z",
     "iopub.status.idle": "2022-05-24T07:30:20.684724Z",
     "shell.execute_reply": "2022-05-24T07:30:20.683655Z"
    },
    "papermill": {
     "duration": 0.834816,
     "end_time": "2022-05-24T07:30:20.687535",
     "exception": false,
     "start_time": "2022-05-24T07:30:19.852719",
     "status": "completed"
    },
    "tags": []
   },
   "outputs": [],
   "source": [
    "data = requests.get(url).text"
   ]
  },
  {
   "cell_type": "code",
   "execution_count": 4,
   "id": "0a820027",
   "metadata": {
    "execution": {
     "iopub.execute_input": "2022-05-24T07:30:20.711698Z",
     "iopub.status.busy": "2022-05-24T07:30:20.710955Z",
     "iopub.status.idle": "2022-05-24T07:30:20.724759Z",
     "shell.execute_reply": "2022-05-24T07:30:20.724180Z"
    },
    "papermill": {
     "duration": 0.028655,
     "end_time": "2022-05-24T07:30:20.727378",
     "exception": false,
     "start_time": "2022-05-24T07:30:20.698723",
     "status": "completed"
    },
    "tags": []
   },
   "outputs": [],
   "source": [
    "soup=BeautifulSoup(data, \"html5lib\")"
   ]
  },
  {
   "cell_type": "code",
   "execution_count": 5,
   "id": "143b4153",
   "metadata": {
    "execution": {
     "iopub.execute_input": "2022-05-24T07:30:20.751758Z",
     "iopub.status.busy": "2022-05-24T07:30:20.750785Z",
     "iopub.status.idle": "2022-05-24T07:30:20.763127Z",
     "shell.execute_reply": "2022-05-24T07:30:20.762552Z"
    },
    "papermill": {
     "duration": 0.028141,
     "end_time": "2022-05-24T07:30:20.766528",
     "exception": false,
     "start_time": "2022-05-24T07:30:20.738387",
     "status": "completed"
    },
    "tags": []
   },
   "outputs": [
    {
     "data": {
      "text/plain": [
       "[['Python', '$114,383'],\n",
       " ['Java', '$101,013'],\n",
       " ['R', '$92,037'],\n",
       " ['Javascript', '$110,981'],\n",
       " ['Swift', '$130,801'],\n",
       " ['C++', '$113,865'],\n",
       " ['C#', '$88,726'],\n",
       " ['PHP', '$84,727'],\n",
       " ['SQL', '$84,793'],\n",
       " ['Go', '$94,082']]"
      ]
     },
     "execution_count": 5,
     "metadata": {},
     "output_type": "execute_result"
    }
   ],
   "source": [
    "table=soup.find('table')\n",
    "def get_data(table):\n",
    "    language_salary_list = []\n",
    "    for row in table.find_all('tr'):\n",
    "        cols=row.find_all('td')\n",
    "        language_name = cols[1].getText()\n",
    "        annual_average_salary = cols[3].getText()\n",
    "    #     print(\"{}:{}\".format(language_name, annual_average_salary))\n",
    "        language_salary_list.append([language_name, annual_average_salary])\n",
    "    language_salary_list.remove(['Language', 'Average Annual Salary'])\n",
    "    return language_salary_list\n",
    "\n",
    "data=get_data(table)\n",
    "data"
   ]
  },
  {
   "cell_type": "code",
   "execution_count": 6,
   "id": "a513b5dd",
   "metadata": {
    "execution": {
     "iopub.execute_input": "2022-05-24T07:30:20.791586Z",
     "iopub.status.busy": "2022-05-24T07:30:20.791146Z",
     "iopub.status.idle": "2022-05-24T07:30:20.812192Z",
     "shell.execute_reply": "2022-05-24T07:30:20.811577Z"
    },
    "papermill": {
     "duration": 0.036318,
     "end_time": "2022-05-24T07:30:20.814561",
     "exception": false,
     "start_time": "2022-05-24T07:30:20.778243",
     "status": "completed"
    },
    "tags": []
   },
   "outputs": [
    {
     "data": {
      "text/html": [
       "<div>\n",
       "<style scoped>\n",
       "    .dataframe tbody tr th:only-of-type {\n",
       "        vertical-align: middle;\n",
       "    }\n",
       "\n",
       "    .dataframe tbody tr th {\n",
       "        vertical-align: top;\n",
       "    }\n",
       "\n",
       "    .dataframe thead th {\n",
       "        text-align: right;\n",
       "    }\n",
       "</style>\n",
       "<table border=\"1\" class=\"dataframe\">\n",
       "  <thead>\n",
       "    <tr style=\"text-align: right;\">\n",
       "      <th></th>\n",
       "      <th>Language</th>\n",
       "      <th>Avg Salary</th>\n",
       "    </tr>\n",
       "  </thead>\n",
       "  <tbody>\n",
       "    <tr>\n",
       "      <th>0</th>\n",
       "      <td>Python</td>\n",
       "      <td>$114,383</td>\n",
       "    </tr>\n",
       "    <tr>\n",
       "      <th>1</th>\n",
       "      <td>Java</td>\n",
       "      <td>$101,013</td>\n",
       "    </tr>\n",
       "    <tr>\n",
       "      <th>2</th>\n",
       "      <td>R</td>\n",
       "      <td>$92,037</td>\n",
       "    </tr>\n",
       "    <tr>\n",
       "      <th>3</th>\n",
       "      <td>Javascript</td>\n",
       "      <td>$110,981</td>\n",
       "    </tr>\n",
       "    <tr>\n",
       "      <th>4</th>\n",
       "      <td>Swift</td>\n",
       "      <td>$130,801</td>\n",
       "    </tr>\n",
       "    <tr>\n",
       "      <th>5</th>\n",
       "      <td>C++</td>\n",
       "      <td>$113,865</td>\n",
       "    </tr>\n",
       "    <tr>\n",
       "      <th>6</th>\n",
       "      <td>C#</td>\n",
       "      <td>$88,726</td>\n",
       "    </tr>\n",
       "    <tr>\n",
       "      <th>7</th>\n",
       "      <td>PHP</td>\n",
       "      <td>$84,727</td>\n",
       "    </tr>\n",
       "    <tr>\n",
       "      <th>8</th>\n",
       "      <td>SQL</td>\n",
       "      <td>$84,793</td>\n",
       "    </tr>\n",
       "    <tr>\n",
       "      <th>9</th>\n",
       "      <td>Go</td>\n",
       "      <td>$94,082</td>\n",
       "    </tr>\n",
       "  </tbody>\n",
       "</table>\n",
       "</div>"
      ],
      "text/plain": [
       "     Language Avg Salary\n",
       "0      Python   $114,383\n",
       "1        Java   $101,013\n",
       "2           R    $92,037\n",
       "3  Javascript   $110,981\n",
       "4       Swift   $130,801\n",
       "5         C++   $113,865\n",
       "6          C#    $88,726\n",
       "7         PHP    $84,727\n",
       "8         SQL    $84,793\n",
       "9          Go    $94,082"
      ]
     },
     "execution_count": 6,
     "metadata": {},
     "output_type": "execute_result"
    }
   ],
   "source": [
    "df = pd.DataFrame(data, columns=['Language', 'Avg Salary'])\n",
    "df"
   ]
  },
  {
   "cell_type": "markdown",
   "id": "711de581",
   "metadata": {
    "papermill": {
     "duration": 0.012223,
     "end_time": "2022-05-24T07:30:20.838846",
     "exception": false,
     "start_time": "2022-05-24T07:30:20.826623",
     "status": "completed"
    },
    "tags": []
   },
   "source": [
    "Q1. Which language are developers paid the most according to the output of the web scraping lab?"
   ]
  },
  {
   "cell_type": "code",
   "execution_count": 7,
   "id": "a6bccb26",
   "metadata": {
    "execution": {
     "iopub.execute_input": "2022-05-24T07:30:20.864229Z",
     "iopub.status.busy": "2022-05-24T07:30:20.863628Z",
     "iopub.status.idle": "2022-05-24T07:30:20.883368Z",
     "shell.execute_reply": "2022-05-24T07:30:20.882804Z"
    },
    "papermill": {
     "duration": 0.036501,
     "end_time": "2022-05-24T07:30:20.887115",
     "exception": false,
     "start_time": "2022-05-24T07:30:20.850614",
     "status": "completed"
    },
    "tags": []
   },
   "outputs": [
    {
     "name": "stderr",
     "output_type": "stream",
     "text": [
      "/opt/conda/lib/python3.7/site-packages/ipykernel_launcher.py:2: FutureWarning: The default value of regex will change from True to False in a future version. In addition, single character regular expressions will *not* be treated as literal strings when regex=True.\n",
      "  \n"
     ]
    },
    {
     "data": {
      "text/html": [
       "<div>\n",
       "<style scoped>\n",
       "    .dataframe tbody tr th:only-of-type {\n",
       "        vertical-align: middle;\n",
       "    }\n",
       "\n",
       "    .dataframe tbody tr th {\n",
       "        vertical-align: top;\n",
       "    }\n",
       "\n",
       "    .dataframe thead th {\n",
       "        text-align: right;\n",
       "    }\n",
       "</style>\n",
       "<table border=\"1\" class=\"dataframe\">\n",
       "  <thead>\n",
       "    <tr style=\"text-align: right;\">\n",
       "      <th></th>\n",
       "      <th>Language</th>\n",
       "      <th>Avg Salary</th>\n",
       "    </tr>\n",
       "  </thead>\n",
       "  <tbody>\n",
       "    <tr>\n",
       "      <th>4</th>\n",
       "      <td>Swift</td>\n",
       "      <td>130801</td>\n",
       "    </tr>\n",
       "    <tr>\n",
       "      <th>0</th>\n",
       "      <td>Python</td>\n",
       "      <td>114383</td>\n",
       "    </tr>\n",
       "    <tr>\n",
       "      <th>5</th>\n",
       "      <td>C++</td>\n",
       "      <td>113865</td>\n",
       "    </tr>\n",
       "    <tr>\n",
       "      <th>3</th>\n",
       "      <td>Javascript</td>\n",
       "      <td>110981</td>\n",
       "    </tr>\n",
       "    <tr>\n",
       "      <th>1</th>\n",
       "      <td>Java</td>\n",
       "      <td>101013</td>\n",
       "    </tr>\n",
       "    <tr>\n",
       "      <th>9</th>\n",
       "      <td>Go</td>\n",
       "      <td>94082</td>\n",
       "    </tr>\n",
       "    <tr>\n",
       "      <th>2</th>\n",
       "      <td>R</td>\n",
       "      <td>92037</td>\n",
       "    </tr>\n",
       "    <tr>\n",
       "      <th>6</th>\n",
       "      <td>C#</td>\n",
       "      <td>88726</td>\n",
       "    </tr>\n",
       "    <tr>\n",
       "      <th>8</th>\n",
       "      <td>SQL</td>\n",
       "      <td>84793</td>\n",
       "    </tr>\n",
       "    <tr>\n",
       "      <th>7</th>\n",
       "      <td>PHP</td>\n",
       "      <td>84727</td>\n",
       "    </tr>\n",
       "  </tbody>\n",
       "</table>\n",
       "</div>"
      ],
      "text/plain": [
       "     Language  Avg Salary\n",
       "4       Swift      130801\n",
       "0      Python      114383\n",
       "5         C++      113865\n",
       "3  Javascript      110981\n",
       "1        Java      101013\n",
       "9          Go       94082\n",
       "2           R       92037\n",
       "6          C#       88726\n",
       "8         SQL       84793\n",
       "7         PHP       84727"
      ]
     },
     "execution_count": 7,
     "metadata": {},
     "output_type": "execute_result"
    }
   ],
   "source": [
    "q1 = df.copy()\n",
    "q1['Avg Salary'] = q1['Avg Salary'].str.replace('$', '').str.replace(',', '').astype(int)\n",
    "q1.sort_values('Avg Salary', ascending = False)"
   ]
  },
  {
   "cell_type": "markdown",
   "id": "97bbeade",
   "metadata": {
    "papermill": {
     "duration": 0.012694,
     "end_time": "2022-05-24T07:30:20.912629",
     "exception": false,
     "start_time": "2022-05-24T07:30:20.899935",
     "status": "completed"
    },
    "tags": []
   },
   "source": [
    "Q2. Code segments to scrape images: soup.find_all(“img”)"
   ]
  }
 ],
 "metadata": {
  "kernelspec": {
   "display_name": "Python",
   "language": "python",
   "name": "conda-env-python-py"
  },
  "language_info": {
   "codemirror_mode": {
    "name": "ipython",
    "version": 3
   },
   "file_extension": ".py",
   "mimetype": "text/x-python",
   "name": "python",
   "nbconvert_exporter": "python",
   "pygments_lexer": "ipython3",
   "version": "3.7.12"
  },
  "papermill": {
   "default_parameters": {},
   "duration": 12.85196,
   "end_time": "2022-05-24T07:30:21.551669",
   "environment_variables": {},
   "exception": null,
   "input_path": "__notebook__.ipynb",
   "output_path": "__notebook__.ipynb",
   "parameters": {},
   "start_time": "2022-05-24T07:30:08.699709",
   "version": "2.3.4"
  }
 },
 "nbformat": 4,
 "nbformat_minor": 5
}
