{
 "cells": [
  {
   "cell_type": "markdown",
   "id": "9edc014d",
   "metadata": {
    "papermill": {
     "duration": 0.029823,
     "end_time": "2022-05-25T10:19:01.596511",
     "exception": false,
     "start_time": "2022-05-25T10:19:01.566688",
     "status": "completed"
    },
    "tags": []
   },
   "source": [
    "<center>\n",
    "    <img src=\"https://gitlab.com/ibm/skills-network/courses/placeholder101/-/raw/master/labs/module%201/images/IDSNlogo.png\" width=\"300\" alt=\"cognitiveclass.ai logo\"  />\n",
    "</center>\n"
   ]
  },
  {
   "cell_type": "markdown",
   "id": "6cb403c9",
   "metadata": {
    "papermill": {
     "duration": 0.027904,
     "end_time": "2022-05-25T10:19:01.652811",
     "exception": false,
     "start_time": "2022-05-25T10:19:01.624907",
     "status": "completed"
    },
    "tags": []
   },
   "source": [
    "# **Exploratory Data Analysis Lab**\n"
   ]
  },
  {
   "cell_type": "markdown",
   "id": "ad4dafa8",
   "metadata": {
    "papermill": {
     "duration": 0.028023,
     "end_time": "2022-05-25T10:19:01.711109",
     "exception": false,
     "start_time": "2022-05-25T10:19:01.683086",
     "status": "completed"
    },
    "tags": []
   },
   "source": [
    "Estimated time needed: **30** minutes\n"
   ]
  },
  {
   "cell_type": "markdown",
   "id": "3f70e541",
   "metadata": {
    "papermill": {
     "duration": 0.028804,
     "end_time": "2022-05-25T10:19:01.768586",
     "exception": false,
     "start_time": "2022-05-25T10:19:01.739782",
     "status": "completed"
    },
    "tags": []
   },
   "source": [
    "In this module you get to work with the cleaned dataset from the previous module.\n",
    "\n",
    "In this assignment you will perform the task of exploratory data analysis.\n",
    "You will find out the distribution of data, presence of outliers and also determine the correlation between different columns in the dataset.\n"
   ]
  },
  {
   "cell_type": "markdown",
   "id": "6d1f1259",
   "metadata": {
    "papermill": {
     "duration": 0.028078,
     "end_time": "2022-05-25T10:19:01.826239",
     "exception": false,
     "start_time": "2022-05-25T10:19:01.798161",
     "status": "completed"
    },
    "tags": []
   },
   "source": [
    "## Objectives\n"
   ]
  },
  {
   "cell_type": "markdown",
   "id": "9992d0b8",
   "metadata": {
    "papermill": {
     "duration": 0.028665,
     "end_time": "2022-05-25T10:19:01.884195",
     "exception": false,
     "start_time": "2022-05-25T10:19:01.855530",
     "status": "completed"
    },
    "tags": []
   },
   "source": [
    "In this lab you will perform the following:\n"
   ]
  },
  {
   "cell_type": "markdown",
   "id": "767559ef",
   "metadata": {
    "papermill": {
     "duration": 0.041657,
     "end_time": "2022-05-25T10:19:01.954955",
     "exception": false,
     "start_time": "2022-05-25T10:19:01.913298",
     "status": "completed"
    },
    "tags": []
   },
   "source": [
    "*   Identify the distribution of data in the dataset.\n",
    "\n",
    "*   Identify outliers in the dataset.\n",
    "\n",
    "*   Remove outliers from the dataset.\n",
    "\n",
    "*   Identify correlation between features in the dataset.\n"
   ]
  },
  {
   "cell_type": "markdown",
   "id": "e6e79b07",
   "metadata": {
    "papermill": {
     "duration": 0.031307,
     "end_time": "2022-05-25T10:19:02.027510",
     "exception": false,
     "start_time": "2022-05-25T10:19:01.996203",
     "status": "completed"
    },
    "tags": []
   },
   "source": [
    "***\n"
   ]
  },
  {
   "cell_type": "markdown",
   "id": "e745fda6",
   "metadata": {
    "papermill": {
     "duration": 0.02881,
     "end_time": "2022-05-25T10:19:02.086518",
     "exception": false,
     "start_time": "2022-05-25T10:19:02.057708",
     "status": "completed"
    },
    "tags": []
   },
   "source": [
    "## Hands on Lab\n"
   ]
  },
  {
   "cell_type": "markdown",
   "id": "a2efbe2a",
   "metadata": {
    "papermill": {
     "duration": 0.02809,
     "end_time": "2022-05-25T10:19:02.142941",
     "exception": false,
     "start_time": "2022-05-25T10:19:02.114851",
     "status": "completed"
    },
    "tags": []
   },
   "source": [
    "Import the pandas module.\n"
   ]
  },
  {
   "cell_type": "code",
   "execution_count": 1,
   "id": "151d30e5",
   "metadata": {
    "execution": {
     "iopub.execute_input": "2022-05-25T10:19:02.201821Z",
     "iopub.status.busy": "2022-05-25T10:19:02.201268Z",
     "iopub.status.idle": "2022-05-25T10:19:03.282898Z",
     "shell.execute_reply": "2022-05-25T10:19:03.282067Z"
    },
    "papermill": {
     "duration": 1.113984,
     "end_time": "2022-05-25T10:19:03.285259",
     "exception": false,
     "start_time": "2022-05-25T10:19:02.171275",
     "status": "completed"
    },
    "tags": []
   },
   "outputs": [],
   "source": [
    "import pandas as pd\n",
    "import matplotlib.pyplot as plt\n",
    "import seaborn as sns\n",
    "import numpy as np"
   ]
  },
  {
   "cell_type": "markdown",
   "id": "cbeca6f3",
   "metadata": {
    "papermill": {
     "duration": 0.029455,
     "end_time": "2022-05-25T10:19:03.343463",
     "exception": false,
     "start_time": "2022-05-25T10:19:03.314008",
     "status": "completed"
    },
    "tags": []
   },
   "source": [
    "Load the dataset into a dataframe.\n"
   ]
  },
  {
   "cell_type": "code",
   "execution_count": 2,
   "id": "6f864c64",
   "metadata": {
    "execution": {
     "iopub.execute_input": "2022-05-25T10:19:03.402801Z",
     "iopub.status.busy": "2022-05-25T10:19:03.402396Z",
     "iopub.status.idle": "2022-05-25T10:19:12.257605Z",
     "shell.execute_reply": "2022-05-25T10:19:12.256972Z"
    },
    "papermill": {
     "duration": 8.887154,
     "end_time": "2022-05-25T10:19:12.259606",
     "exception": false,
     "start_time": "2022-05-25T10:19:03.372452",
     "status": "completed"
    },
    "tags": []
   },
   "outputs": [],
   "source": [
    "df = pd.read_csv(\"https://cf-courses-data.s3.us.cloud-object-storage.appdomain.cloud/IBM-DA0321EN-SkillsNetwork/LargeData/m2_survey_data.csv\")"
   ]
  },
  {
   "cell_type": "markdown",
   "id": "e5a05ddb",
   "metadata": {
    "papermill": {
     "duration": 0.028437,
     "end_time": "2022-05-25T10:19:12.316520",
     "exception": false,
     "start_time": "2022-05-25T10:19:12.288083",
     "status": "completed"
    },
    "tags": []
   },
   "source": [
    "## Distribution\n"
   ]
  },
  {
   "cell_type": "markdown",
   "id": "4a46ed41",
   "metadata": {
    "papermill": {
     "duration": 0.028473,
     "end_time": "2022-05-25T10:19:12.373763",
     "exception": false,
     "start_time": "2022-05-25T10:19:12.345290",
     "status": "completed"
    },
    "tags": []
   },
   "source": [
    "### Determine how the data is distributed\n"
   ]
  },
  {
   "cell_type": "markdown",
   "id": "5aa6fae7",
   "metadata": {
    "papermill": {
     "duration": 0.028367,
     "end_time": "2022-05-25T10:19:12.430858",
     "exception": false,
     "start_time": "2022-05-25T10:19:12.402491",
     "status": "completed"
    },
    "tags": []
   },
   "source": [
    "The column `ConvertedComp` contains Salary converted to annual USD salaries using the exchange rate on 2019-02-01.\n",
    "\n",
    "This assumes 12 working months and 50 working weeks.\n"
   ]
  },
  {
   "cell_type": "markdown",
   "id": "5fb6ac94",
   "metadata": {
    "papermill": {
     "duration": 0.02864,
     "end_time": "2022-05-25T10:19:12.488156",
     "exception": false,
     "start_time": "2022-05-25T10:19:12.459516",
     "status": "completed"
    },
    "tags": []
   },
   "source": [
    "Plot the distribution curve for the column `ConvertedComp`.\n"
   ]
  },
  {
   "cell_type": "code",
   "execution_count": 3,
   "id": "765928e6",
   "metadata": {
    "execution": {
     "iopub.execute_input": "2022-05-25T10:19:12.547295Z",
     "iopub.status.busy": "2022-05-25T10:19:12.546849Z",
     "iopub.status.idle": "2022-05-25T10:19:12.934591Z",
     "shell.execute_reply": "2022-05-25T10:19:12.932994Z"
    },
    "papermill": {
     "duration": 0.419638,
     "end_time": "2022-05-25T10:19:12.936587",
     "exception": false,
     "start_time": "2022-05-25T10:19:12.516949",
     "status": "completed"
    },
    "tags": []
   },
   "outputs": [
    {
     "name": "stderr",
     "output_type": "stream",
     "text": [
      "/opt/conda/lib/python3.7/site-packages/seaborn/distributions.py:2619: FutureWarning: `distplot` is a deprecated function and will be removed in a future version. Please adapt your code to use either `displot` (a figure-level function with similar flexibility) or `histplot` (an axes-level function for histograms).\n",
      "  warnings.warn(msg, FutureWarning)\n"
     ]
    },
    {
     "data": {
      "text/plain": [
       "<AxesSubplot:xlabel='ConvertedComp', ylabel='Density'>"
      ]
     },
     "execution_count": 3,
     "metadata": {},
     "output_type": "execute_result"
    },
    {
     "data": {
      "image/png": "[encoded data removed]",
      "text/plain": [
       "<Figure size 432x288 with 1 Axes>"
      ]
     },
     "metadata": {
      "needs_background": "light"
     },
     "output_type": "display_data"
    }
   ],
   "source": [
    "# your code goes here\n",
    "sns.distplot(df.ConvertedComp)"
   ]
  },
  {
   "cell_type": "markdown",
   "id": "1162ab82",
   "metadata": {
    "papermill": {
     "duration": 0.029843,
     "end_time": "2022-05-25T10:19:12.996853",
     "exception": false,
     "start_time": "2022-05-25T10:19:12.967010",
     "status": "completed"
    },
    "tags": []
   },
   "source": [
    "Plot the histogram for the column `ConvertedComp`.\n"
   ]
  },
  {
   "cell_type": "code",
   "execution_count": 4,
   "id": "95765749",
   "metadata": {
    "execution": {
     "iopub.execute_input": "2022-05-25T10:19:13.060484Z",
     "iopub.status.busy": "2022-05-25T10:19:13.060184Z",
     "iopub.status.idle": "2022-05-25T10:19:13.248623Z",
     "shell.execute_reply": "2022-05-25T10:19:13.247823Z"
    },
    "papermill": {
     "duration": 0.223147,
     "end_time": "2022-05-25T10:19:13.250495",
     "exception": false,
     "start_time": "2022-05-25T10:19:13.027348",
     "status": "completed"
    },
    "tags": []
   },
   "outputs": [
    {
     "data": {
      "text/plain": [
       "(array([9659.,  238.,  115.,  125.,   99.,  131.,   34.,   15.,   15.,\n",
       "         151.]),\n",
       " array([      0.,  200000.,  400000.,  600000.,  800000., 1000000.,\n",
       "        1200000., 1400000., 1600000., 1800000., 2000000.]),\n",
       " <BarContainer object of 10 artists>)"
      ]
     },
     "execution_count": 4,
     "metadata": {},
     "output_type": "execute_result"
    },
    {
     "data": {
      "image/png": "[encoded data removed]",
      "text/plain": [
       "<Figure size 432x288 with 1 Axes>"
      ]
     },
     "metadata": {
      "needs_background": "light"
     },
     "output_type": "display_data"
    }
   ],
   "source": [
    "# your code goes here\n",
    "plt.hist(df.ConvertedComp)"
   ]
  },
  {
   "cell_type": "markdown",
   "id": "6a859a05",
   "metadata": {
    "papermill": {
     "duration": 0.030556,
     "end_time": "2022-05-25T10:19:13.311811",
     "exception": false,
     "start_time": "2022-05-25T10:19:13.281255",
     "status": "completed"
    },
    "tags": []
   },
   "source": [
    "What is the median of the column `ConvertedComp`?\n"
   ]
  },
  {
   "cell_type": "code",
   "execution_count": 5,
   "id": "5fc40a11",
   "metadata": {
    "execution": {
     "iopub.execute_input": "2022-05-25T10:19:13.375470Z",
     "iopub.status.busy": "2022-05-25T10:19:13.375182Z",
     "iopub.status.idle": "2022-05-25T10:19:13.381382Z",
     "shell.execute_reply": "2022-05-25T10:19:13.380781Z"
    },
    "papermill": {
     "duration": 0.039981,
     "end_time": "2022-05-25T10:19:13.382958",
     "exception": false,
     "start_time": "2022-05-25T10:19:13.342977",
     "status": "completed"
    },
    "tags": []
   },
   "outputs": [
    {
     "data": {
      "text/plain": [
       "57745.0"
      ]
     },
     "execution_count": 5,
     "metadata": {},
     "output_type": "execute_result"
    }
   ],
   "source": [
    "# your code goes here\n",
    "df.ConvertedComp.median()"
   ]
  },
  {
   "cell_type": "markdown",
   "id": "30a45fd4",
   "metadata": {
    "papermill": {
     "duration": 0.031107,
     "end_time": "2022-05-25T10:19:13.445128",
     "exception": false,
     "start_time": "2022-05-25T10:19:13.414021",
     "status": "completed"
    },
    "tags": []
   },
   "source": [
    "How many responders identified themselves only as a **Man**?\n"
   ]
  },
  {
   "cell_type": "code",
   "execution_count": 6,
   "id": "fb70481f",
   "metadata": {
    "execution": {
     "iopub.execute_input": "2022-05-25T10:19:13.509389Z",
     "iopub.status.busy": "2022-05-25T10:19:13.508624Z",
     "iopub.status.idle": "2022-05-25T10:19:13.516717Z",
     "shell.execute_reply": "2022-05-25T10:19:13.515939Z"
    },
    "papermill": {
     "duration": 0.042257,
     "end_time": "2022-05-25T10:19:13.518476",
     "exception": false,
     "start_time": "2022-05-25T10:19:13.476219",
     "status": "completed"
    },
    "tags": []
   },
   "outputs": [
    {
     "data": {
      "text/plain": [
       "Man                                                            10480\n",
       "Woman                                                            731\n",
       "Non-binary, genderqueer, or gender non-conforming                 63\n",
       "Man;Non-binary, genderqueer, or gender non-conforming             26\n",
       "Woman;Non-binary, genderqueer, or gender non-conforming           14\n",
       "Woman;Man                                                          9\n",
       "Woman;Man;Non-binary, genderqueer, or gender non-conforming        2\n",
       "Name: Gender, dtype: int64"
      ]
     },
     "execution_count": 6,
     "metadata": {},
     "output_type": "execute_result"
    }
   ],
   "source": [
    "# your code goes here\n",
    "df.Gender.value_counts()"
   ]
  },
  {
   "cell_type": "markdown",
   "id": "a5e81a55",
   "metadata": {
    "papermill": {
     "duration": 0.031162,
     "end_time": "2022-05-25T10:19:13.581025",
     "exception": false,
     "start_time": "2022-05-25T10:19:13.549863",
     "status": "completed"
    },
    "tags": []
   },
   "source": [
    "Find out the  median ConvertedComp of responders identified themselves only as a **Woman**?\n"
   ]
  },
  {
   "cell_type": "code",
   "execution_count": 7,
   "id": "33aa7544",
   "metadata": {
    "execution": {
     "iopub.execute_input": "2022-05-25T10:19:13.645392Z",
     "iopub.status.busy": "2022-05-25T10:19:13.644967Z",
     "iopub.status.idle": "2022-05-25T10:19:13.653252Z",
     "shell.execute_reply": "2022-05-25T10:19:13.652722Z"
    },
    "papermill": {
     "duration": 0.042538,
     "end_time": "2022-05-25T10:19:13.654924",
     "exception": false,
     "start_time": "2022-05-25T10:19:13.612386",
     "status": "completed"
    },
    "tags": []
   },
   "outputs": [
    {
     "data": {
      "text/plain": [
       "57708.0"
      ]
     },
     "execution_count": 7,
     "metadata": {},
     "output_type": "execute_result"
    }
   ],
   "source": [
    "df.ConvertedComp[df.Gender == 'Woman'].median()"
   ]
  },
  {
   "cell_type": "markdown",
   "id": "46ef20b0",
   "metadata": {
    "papermill": {
     "duration": 0.032311,
     "end_time": "2022-05-25T10:19:13.719265",
     "exception": false,
     "start_time": "2022-05-25T10:19:13.686954",
     "status": "completed"
    },
    "tags": []
   },
   "source": [
    "Give the five number summary for the column `Age`?\n"
   ]
  },
  {
   "cell_type": "markdown",
   "id": "b713f6fa",
   "metadata": {
    "papermill": {
     "duration": 0.031373,
     "end_time": "2022-05-25T10:19:13.782357",
     "exception": false,
     "start_time": "2022-05-25T10:19:13.750984",
     "status": "completed"
    },
    "tags": []
   },
   "source": [
    "**Double click here for hint**.\n",
    "\n",
    "<!--\n",
    "min,q1,median,q3,max of a column are its five number summary.\n",
    "-->\n"
   ]
  },
  {
   "cell_type": "code",
   "execution_count": 8,
   "id": "9ede9db9",
   "metadata": {
    "execution": {
     "iopub.execute_input": "2022-05-25T10:19:13.847907Z",
     "iopub.status.busy": "2022-05-25T10:19:13.847008Z",
     "iopub.status.idle": "2022-05-25T10:19:13.857834Z",
     "shell.execute_reply": "2022-05-25T10:19:13.857121Z"
    },
    "papermill": {
     "duration": 0.045463,
     "end_time": "2022-05-25T10:19:13.859752",
     "exception": false,
     "start_time": "2022-05-25T10:19:13.814289",
     "status": "completed"
    },
    "tags": []
   },
   "outputs": [
    {
     "data": {
      "text/plain": [
       "count    11111.000000\n",
       "mean        30.778895\n",
       "std          7.393686\n",
       "min         16.000000\n",
       "25%         25.000000\n",
       "50%         29.000000\n",
       "75%         35.000000\n",
       "max         99.000000\n",
       "Name: Age, dtype: float64"
      ]
     },
     "execution_count": 8,
     "metadata": {},
     "output_type": "execute_result"
    }
   ],
   "source": [
    "# your code goes here\n",
    "df.Age.describe()"
   ]
  },
  {
   "cell_type": "markdown",
   "id": "a40aef1d",
   "metadata": {
    "papermill": {
     "duration": 0.033567,
     "end_time": "2022-05-25T10:19:13.925520",
     "exception": false,
     "start_time": "2022-05-25T10:19:13.891953",
     "status": "completed"
    },
    "tags": []
   },
   "source": [
    "Plot a histogram of the column `Age`.\n"
   ]
  },
  {
   "cell_type": "code",
   "execution_count": 9,
   "id": "98c36a14",
   "metadata": {
    "execution": {
     "iopub.execute_input": "2022-05-25T10:19:13.991907Z",
     "iopub.status.busy": "2022-05-25T10:19:13.991656Z",
     "iopub.status.idle": "2022-05-25T10:19:14.154702Z",
     "shell.execute_reply": "2022-05-25T10:19:14.154098Z"
    },
    "papermill": {
     "duration": 0.199046,
     "end_time": "2022-05-25T10:19:14.156613",
     "exception": false,
     "start_time": "2022-05-25T10:19:13.957567",
     "status": "completed"
    },
    "tags": []
   },
   "outputs": [
    {
     "data": {
      "text/plain": [
       "<AxesSubplot:ylabel='Frequency'>"
      ]
     },
     "execution_count": 9,
     "metadata": {},
     "output_type": "execute_result"
    },
    {
     "data": {
      "image/png": "[encoded data removed]",
      "text/plain": [
       "<Figure size 432x288 with 1 Axes>"
      ]
     },
     "metadata": {
      "needs_background": "light"
     },
     "output_type": "display_data"
    }
   ],
   "source": [
    "# your code goes here\n",
    "df.Age.plot(kind = 'hist',bins = 20, xticks = [10,20,30,40,50,60,70,80,90])"
   ]
  },
  {
   "cell_type": "code",
   "execution_count": 10,
   "id": "a9efed5a",
   "metadata": {
    "execution": {
     "iopub.execute_input": "2022-05-25T10:19:14.224766Z",
     "iopub.status.busy": "2022-05-25T10:19:14.224276Z",
     "iopub.status.idle": "2022-05-25T10:19:14.313599Z",
     "shell.execute_reply": "2022-05-25T10:19:14.312995Z"
    },
    "papermill": {
     "duration": 0.125512,
     "end_time": "2022-05-25T10:19:14.315425",
     "exception": false,
     "start_time": "2022-05-25T10:19:14.189913",
     "status": "completed"
    },
    "tags": []
   },
   "outputs": [
    {
     "data": {
      "text/plain": [
       "<AxesSubplot:>"
      ]
     },
     "execution_count": 10,
     "metadata": {},
     "output_type": "execute_result"
    },
    {
     "data": {
      "image/png": "[encoded data removed]",
      "text/plain": [
       "<Figure size 432x288 with 1 Axes>"
      ]
     },
     "metadata": {
      "needs_background": "light"
     },
     "output_type": "display_data"
    }
   ],
   "source": [
    "df.Age.plot(kind = 'box')"
   ]
  },
  {
   "cell_type": "markdown",
   "id": "4e728a45",
   "metadata": {
    "papermill": {
     "duration": 0.034828,
     "end_time": "2022-05-25T10:19:14.384750",
     "exception": false,
     "start_time": "2022-05-25T10:19:14.349922",
     "status": "completed"
    },
    "tags": []
   },
   "source": [
    "## Outliers\n"
   ]
  },
  {
   "cell_type": "markdown",
   "id": "db2da2e3",
   "metadata": {
    "papermill": {
     "duration": 0.033682,
     "end_time": "2022-05-25T10:19:14.452711",
     "exception": false,
     "start_time": "2022-05-25T10:19:14.419029",
     "status": "completed"
    },
    "tags": []
   },
   "source": [
    "### Finding outliers\n"
   ]
  },
  {
   "cell_type": "markdown",
   "id": "f5bde2fb",
   "metadata": {
    "papermill": {
     "duration": 0.033845,
     "end_time": "2022-05-25T10:19:14.520610",
     "exception": false,
     "start_time": "2022-05-25T10:19:14.486765",
     "status": "completed"
    },
    "tags": []
   },
   "source": [
    "Find out if outliers exist in the column `ConvertedComp` using a box plot?\n"
   ]
  },
  {
   "cell_type": "code",
   "execution_count": 11,
   "id": "98fd46e3",
   "metadata": {
    "execution": {
     "iopub.execute_input": "2022-05-25T10:19:14.590777Z",
     "iopub.status.busy": "2022-05-25T10:19:14.590250Z",
     "iopub.status.idle": "2022-05-25T10:19:14.742769Z",
     "shell.execute_reply": "2022-05-25T10:19:14.741919Z"
    },
    "papermill": {
     "duration": 0.190184,
     "end_time": "2022-05-25T10:19:14.744856",
     "exception": false,
     "start_time": "2022-05-25T10:19:14.554672",
     "status": "completed"
    },
    "tags": []
   },
   "outputs": [
    {
     "data": {
      "text/plain": [
       "<AxesSubplot:>"
      ]
     },
     "execution_count": 11,
     "metadata": {},
     "output_type": "execute_result"
    },
    {
     "data": {
      "image/png": "[encoded data removed]",
      "text/plain": [
       "<Figure size 432x288 with 1 Axes>"
      ]
     },
     "metadata": {
      "needs_background": "light"
     },
     "output_type": "display_data"
    }
   ],
   "source": [
    "# your code goes here\n",
    "df.dropna()\n",
    "df.ConvertedComp.plot(kind= 'box')"
   ]
  },
  {
   "cell_type": "markdown",
   "id": "1ea5e798",
   "metadata": {
    "papermill": {
     "duration": 0.035801,
     "end_time": "2022-05-25T10:19:14.817041",
     "exception": false,
     "start_time": "2022-05-25T10:19:14.781240",
     "status": "completed"
    },
    "tags": []
   },
   "source": [
    "Find out the Inter Quartile Range for the column `ConvertedComp`.\n"
   ]
  },
  {
   "cell_type": "code",
   "execution_count": 12,
   "id": "b14d67e5",
   "metadata": {
    "execution": {
     "iopub.execute_input": "2022-05-25T10:19:14.889661Z",
     "iopub.status.busy": "2022-05-25T10:19:14.889398Z",
     "iopub.status.idle": "2022-05-25T10:19:14.899188Z",
     "shell.execute_reply": "2022-05-25T10:19:14.898364Z"
    },
    "papermill": {
     "duration": 0.04843,
     "end_time": "2022-05-25T10:19:14.900929",
     "exception": false,
     "start_time": "2022-05-25T10:19:14.852499",
     "status": "completed"
    },
    "tags": []
   },
   "outputs": [
    {
     "data": {
      "text/plain": [
       "count    1.058200e+04\n",
       "mean     1.315967e+05\n",
       "std      2.947865e+05\n",
       "min      0.000000e+00\n",
       "25%      2.686800e+04\n",
       "50%      5.774500e+04\n",
       "75%      1.000000e+05\n",
       "max      2.000000e+06\n",
       "Name: ConvertedComp, dtype: float64"
      ]
     },
     "execution_count": 12,
     "metadata": {},
     "output_type": "execute_result"
    }
   ],
   "source": [
    "# your code goes here\n",
    "df.ConvertedComp.describe()"
   ]
  },
  {
   "cell_type": "code",
   "execution_count": 13,
   "id": "758b8730",
   "metadata": {
    "execution": {
     "iopub.execute_input": "2022-05-25T10:19:14.987915Z",
     "iopub.status.busy": "2022-05-25T10:19:14.987340Z",
     "iopub.status.idle": "2022-05-25T10:19:15.001590Z",
     "shell.execute_reply": "2022-05-25T10:19:15.000554Z"
    },
    "papermill": {
     "duration": 0.062912,
     "end_time": "2022-05-25T10:19:15.003448",
     "exception": false,
     "start_time": "2022-05-25T10:19:14.940536",
     "status": "completed"
    },
    "tags": []
   },
   "outputs": [
    {
     "data": {
      "text/plain": [
       "73132.0"
      ]
     },
     "execution_count": 13,
     "metadata": {},
     "output_type": "execute_result"
    }
   ],
   "source": [
    "IQR = df.ConvertedComp.describe()[6] - df.ConvertedComp.describe()[4]\n",
    "IQR"
   ]
  },
  {
   "cell_type": "markdown",
   "id": "4e473e50",
   "metadata": {
    "papermill": {
     "duration": 0.036169,
     "end_time": "2022-05-25T10:19:15.080251",
     "exception": false,
     "start_time": "2022-05-25T10:19:15.044082",
     "status": "completed"
    },
    "tags": []
   },
   "source": [
    "Find out the upper and lower bounds.\n"
   ]
  },
  {
   "cell_type": "code",
   "execution_count": 14,
   "id": "47104ba3",
   "metadata": {
    "execution": {
     "iopub.execute_input": "2022-05-25T10:19:15.153318Z",
     "iopub.status.busy": "2022-05-25T10:19:15.153024Z",
     "iopub.status.idle": "2022-05-25T10:19:15.163737Z",
     "shell.execute_reply": "2022-05-25T10:19:15.162926Z"
    },
    "papermill": {
     "duration": 0.049639,
     "end_time": "2022-05-25T10:19:15.165586",
     "exception": false,
     "start_time": "2022-05-25T10:19:15.115947",
     "status": "completed"
    },
    "tags": []
   },
   "outputs": [
    {
     "name": "stdout",
     "output_type": "stream",
     "text": [
      "Upper bound: 209698.0,  Lower bound: -82830.0\n"
     ]
    }
   ],
   "source": [
    "# your code goes here\n",
    "whiskers = 1.5*IQR\n",
    "\n",
    "Lower = df.ConvertedComp.describe()[4] - whiskers\n",
    "Upper = df.ConvertedComp.describe()[6] + whiskers\n",
    "\n",
    "print(\"Upper bound: {},  Lower bound: {}\".format(Upper, Lower))"
   ]
  },
  {
   "cell_type": "markdown",
   "id": "13d2046e",
   "metadata": {
    "papermill": {
     "duration": 0.035331,
     "end_time": "2022-05-25T10:19:15.237001",
     "exception": false,
     "start_time": "2022-05-25T10:19:15.201670",
     "status": "completed"
    },
    "tags": []
   },
   "source": [
    "Identify how many outliers are there in the `ConvertedComp` column.\n"
   ]
  },
  {
   "cell_type": "code",
   "execution_count": 15,
   "id": "8281bb70",
   "metadata": {
    "execution": {
     "iopub.execute_input": "2022-05-25T10:19:15.309952Z",
     "iopub.status.busy": "2022-05-25T10:19:15.309444Z",
     "iopub.status.idle": "2022-05-25T10:19:15.317442Z",
     "shell.execute_reply": "2022-05-25T10:19:15.316877Z"
    },
    "papermill": {
     "duration": 0.046448,
     "end_time": "2022-05-25T10:19:15.318943",
     "exception": false,
     "start_time": "2022-05-25T10:19:15.272495",
     "status": "completed"
    },
    "tags": []
   },
   "outputs": [
    {
     "data": {
      "text/plain": [
       "(879, 85)"
      ]
     },
     "execution_count": 15,
     "metadata": {},
     "output_type": "execute_result"
    }
   ],
   "source": [
    "# your code goes here\n",
    "df[(df['ConvertedComp'] > Upper) | (df ['ConvertedComp'] < Lower)].shape"
   ]
  },
  {
   "cell_type": "markdown",
   "id": "872f5478",
   "metadata": {
    "papermill": {
     "duration": 0.035918,
     "end_time": "2022-05-25T10:19:15.390930",
     "exception": false,
     "start_time": "2022-05-25T10:19:15.355012",
     "status": "completed"
    },
    "tags": []
   },
   "source": [
    "Create a new dataframe by removing the outliers from the `ConvertedComp` column.\n"
   ]
  },
  {
   "cell_type": "code",
   "execution_count": 16,
   "id": "dd420893",
   "metadata": {
    "execution": {
     "iopub.execute_input": "2022-05-25T10:19:15.464756Z",
     "iopub.status.busy": "2022-05-25T10:19:15.464273Z",
     "iopub.status.idle": "2022-05-25T10:19:15.480731Z",
     "shell.execute_reply": "2022-05-25T10:19:15.480136Z"
    },
    "papermill": {
     "duration": 0.055336,
     "end_time": "2022-05-25T10:19:15.482539",
     "exception": false,
     "start_time": "2022-05-25T10:19:15.427203",
     "status": "completed"
    },
    "tags": []
   },
   "outputs": [
    {
     "data": {
      "text/plain": [
       "count      9703.000000\n",
       "mean      59883.208389\n",
       "std       43394.336755\n",
       "min           0.000000\n",
       "25%       24060.000000\n",
       "50%       52704.000000\n",
       "75%       85574.500000\n",
       "max      209356.000000\n",
       "Name: ConvertedComp, dtype: float64"
      ]
     },
     "execution_count": 16,
     "metadata": {},
     "output_type": "execute_result"
    }
   ],
   "source": [
    "# your code goes here\n",
    "df_cleaned = df[df.ConvertedComp <= Upper]\n",
    "df_cleaned.ConvertedComp.describe()"
   ]
  },
  {
   "cell_type": "markdown",
   "id": "4dfd9052",
   "metadata": {
    "papermill": {
     "duration": 0.035975,
     "end_time": "2022-05-25T10:19:15.554869",
     "exception": false,
     "start_time": "2022-05-25T10:19:15.518894",
     "status": "completed"
    },
    "tags": []
   },
   "source": [
    "## Correlation\n"
   ]
  },
  {
   "cell_type": "markdown",
   "id": "1cfb720a",
   "metadata": {
    "papermill": {
     "duration": 0.03605,
     "end_time": "2022-05-25T10:19:15.626873",
     "exception": false,
     "start_time": "2022-05-25T10:19:15.590823",
     "status": "completed"
    },
    "tags": []
   },
   "source": [
    "### Finding correlation\n"
   ]
  },
  {
   "cell_type": "markdown",
   "id": "ca827408",
   "metadata": {
    "papermill": {
     "duration": 0.035839,
     "end_time": "2022-05-25T10:19:15.698952",
     "exception": false,
     "start_time": "2022-05-25T10:19:15.663113",
     "status": "completed"
    },
    "tags": []
   },
   "source": [
    "Find the correlation between `Age` and all other numerical columns.\n"
   ]
  },
  {
   "cell_type": "code",
   "execution_count": 17,
   "id": "1fe43e54",
   "metadata": {
    "execution": {
     "iopub.execute_input": "2022-05-25T10:19:15.773219Z",
     "iopub.status.busy": "2022-05-25T10:19:15.772674Z",
     "iopub.status.idle": "2022-05-25T10:19:15.791416Z",
     "shell.execute_reply": "2022-05-25T10:19:15.790555Z"
    },
    "papermill": {
     "duration": 0.058099,
     "end_time": "2022-05-25T10:19:15.793382",
     "exception": false,
     "start_time": "2022-05-25T10:19:15.735283",
     "status": "completed"
    },
    "tags": []
   },
   "outputs": [
    {
     "data": {
      "text/html": [
       "<div>\n",
       "<style scoped>\n",
       "    .dataframe tbody tr th:only-of-type {\n",
       "        vertical-align: middle;\n",
       "    }\n",
       "\n",
       "    .dataframe tbody tr th {\n",
       "        vertical-align: top;\n",
       "    }\n",
       "\n",
       "    .dataframe thead th {\n",
       "        text-align: right;\n",
       "    }\n",
       "</style>\n",
       "<table border=\"1\" class=\"dataframe\">\n",
       "  <thead>\n",
       "    <tr style=\"text-align: right;\">\n",
       "      <th></th>\n",
       "      <th>Respondent</th>\n",
       "      <th>CompTotal</th>\n",
       "      <th>ConvertedComp</th>\n",
       "      <th>WorkWeekHrs</th>\n",
       "      <th>CodeRevHrs</th>\n",
       "      <th>Age</th>\n",
       "    </tr>\n",
       "  </thead>\n",
       "  <tbody>\n",
       "    <tr>\n",
       "      <th>Respondent</th>\n",
       "      <td>1.000000</td>\n",
       "      <td>-0.019354</td>\n",
       "      <td>0.010878</td>\n",
       "      <td>-0.016221</td>\n",
       "      <td>0.005293</td>\n",
       "      <td>0.002180</td>\n",
       "    </tr>\n",
       "    <tr>\n",
       "      <th>CompTotal</th>\n",
       "      <td>-0.019354</td>\n",
       "      <td>1.000000</td>\n",
       "      <td>-0.063561</td>\n",
       "      <td>0.004910</td>\n",
       "      <td>0.017007</td>\n",
       "      <td>0.006337</td>\n",
       "    </tr>\n",
       "    <tr>\n",
       "      <th>ConvertedComp</th>\n",
       "      <td>0.010878</td>\n",
       "      <td>-0.063561</td>\n",
       "      <td>1.000000</td>\n",
       "      <td>0.034351</td>\n",
       "      <td>-0.088934</td>\n",
       "      <td>0.401821</td>\n",
       "    </tr>\n",
       "    <tr>\n",
       "      <th>WorkWeekHrs</th>\n",
       "      <td>-0.016221</td>\n",
       "      <td>0.004910</td>\n",
       "      <td>0.034351</td>\n",
       "      <td>1.000000</td>\n",
       "      <td>0.038935</td>\n",
       "      <td>0.032032</td>\n",
       "    </tr>\n",
       "    <tr>\n",
       "      <th>CodeRevHrs</th>\n",
       "      <td>0.005293</td>\n",
       "      <td>0.017007</td>\n",
       "      <td>-0.088934</td>\n",
       "      <td>0.038935</td>\n",
       "      <td>1.000000</td>\n",
       "      <td>-0.012878</td>\n",
       "    </tr>\n",
       "    <tr>\n",
       "      <th>Age</th>\n",
       "      <td>0.002180</td>\n",
       "      <td>0.006337</td>\n",
       "      <td>0.401821</td>\n",
       "      <td>0.032032</td>\n",
       "      <td>-0.012878</td>\n",
       "      <td>1.000000</td>\n",
       "    </tr>\n",
       "  </tbody>\n",
       "</table>\n",
       "</div>"
      ],
      "text/plain": [
       "               Respondent  CompTotal  ConvertedComp  WorkWeekHrs  CodeRevHrs  \\\n",
       "Respondent       1.000000  -0.019354       0.010878    -0.016221    0.005293   \n",
       "CompTotal       -0.019354   1.000000      -0.063561     0.004910    0.017007   \n",
       "ConvertedComp    0.010878  -0.063561       1.000000     0.034351   -0.088934   \n",
       "WorkWeekHrs     -0.016221   0.004910       0.034351     1.000000    0.038935   \n",
       "CodeRevHrs       0.005293   0.017007      -0.088934     0.038935    1.000000   \n",
       "Age              0.002180   0.006337       0.401821     0.032032   -0.012878   \n",
       "\n",
       "                    Age  \n",
       "Respondent     0.002180  \n",
       "CompTotal      0.006337  \n",
       "ConvertedComp  0.401821  \n",
       "WorkWeekHrs    0.032032  \n",
       "CodeRevHrs    -0.012878  \n",
       "Age            1.000000  "
      ]
     },
     "execution_count": 17,
     "metadata": {},
     "output_type": "execute_result"
    }
   ],
   "source": [
    "# your code goes here\n",
    "df_cleaned.corr()"
   ]
  },
  {
   "cell_type": "markdown",
   "id": "1362a304",
   "metadata": {
    "papermill": {
     "duration": 0.036355,
     "end_time": "2022-05-25T10:19:15.868345",
     "exception": false,
     "start_time": "2022-05-25T10:19:15.831990",
     "status": "completed"
    },
    "tags": []
   },
   "source": [
    "## Authors\n"
   ]
  },
  {
   "cell_type": "markdown",
   "id": "d5c97545",
   "metadata": {
    "papermill": {
     "duration": 0.036684,
     "end_time": "2022-05-25T10:19:15.942141",
     "exception": false,
     "start_time": "2022-05-25T10:19:15.905457",
     "status": "completed"
    },
    "tags": []
   },
   "source": [
    "Ramesh Sannareddy\n"
   ]
  },
  {
   "cell_type": "markdown",
   "id": "9e705016",
   "metadata": {
    "papermill": {
     "duration": 0.036529,
     "end_time": "2022-05-25T10:19:16.015570",
     "exception": false,
     "start_time": "2022-05-25T10:19:15.979041",
     "status": "completed"
    },
    "tags": []
   },
   "source": [
    "### Other Contributors\n"
   ]
  },
  {
   "cell_type": "markdown",
   "id": "7115e509",
   "metadata": {
    "papermill": {
     "duration": 0.036242,
     "end_time": "2022-05-25T10:19:16.088601",
     "exception": false,
     "start_time": "2022-05-25T10:19:16.052359",
     "status": "completed"
    },
    "tags": []
   },
   "source": [
    "Rav Ahuja\n"
   ]
  },
  {
   "cell_type": "markdown",
   "id": "b6ee059a",
   "metadata": {
    "papermill": {
     "duration": 0.036477,
     "end_time": "2022-05-25T10:19:16.161799",
     "exception": false,
     "start_time": "2022-05-25T10:19:16.125322",
     "status": "completed"
    },
    "tags": []
   },
   "source": [
    "## Change Log\n"
   ]
  },
  {
   "cell_type": "markdown",
   "id": "6cab4b5a",
   "metadata": {
    "papermill": {
     "duration": 0.036809,
     "end_time": "2022-05-25T10:19:16.235276",
     "exception": false,
     "start_time": "2022-05-25T10:19:16.198467",
     "status": "completed"
    },
    "tags": []
   },
   "source": [
    "| Date (YYYY-MM-DD) | Version | Changed By        | Change Description                 |\n",
    "| ----------------- | ------- | ----------------- | ---------------------------------- |\n",
    "| 2020-10-17        | 0.1     | Ramesh Sannareddy | Created initial version of the lab |\n"
   ]
  },
  {
   "cell_type": "markdown",
   "id": "c9460701",
   "metadata": {
    "papermill": {
     "duration": 0.036382,
     "end_time": "2022-05-25T10:19:16.308292",
     "exception": false,
     "start_time": "2022-05-25T10:19:16.271910",
     "status": "completed"
    },
    "tags": []
   },
   "source": [
    "Copyright © 2020 IBM Corporation. This notebook and its source code are released under the terms of the [MIT License](https://cognitiveclass.ai/mit-license?utm_medium=Exinfluencer&utm_source=Exinfluencer&utm_content=000026UJ&utm_term=10006555&utm_id=NA-SkillsNetwork-Channel-SkillsNetworkCoursesIBMDA0321ENSkillsNetwork21426264-2021-01-01&cm_mmc=Email_Newsletter-\\_-Developer_Ed%2BTech-\\_-WW_WW-\\_-SkillsNetwork-Courses-IBM-DA0321EN-SkillsNetwork-21426264&cm_mmca1=000026UJ&cm_mmca2=10006555&cm_mmca3=M12345678&cvosrc=email.Newsletter.M12345678&cvo_campaign=000026UJ).\n"
   ]
  }
 ],
 "metadata": {
  "kernelspec": {
   "display_name": "Python 3",
   "language": "python",
   "name": "python3"
  },
  "language_info": {
   "codemirror_mode": {
    "name": "ipython",
    "version": 3
   },
   "file_extension": ".py",
   "mimetype": "text/x-python",
   "name": "python",
   "nbconvert_exporter": "python",
   "pygments_lexer": "ipython3",
   "version": "3.7.12"
  },
  "papermill": {
   "default_parameters": {},
   "duration": 23.690982,
   "end_time": "2022-05-25T10:19:17.064916",
   "environment_variables": {},
   "exception": null,
   "input_path": "__notebook__.ipynb",
   "output_path": "__notebook__.ipynb",
   "parameters": {},
   "start_time": "2022-05-25T10:18:53.373934",
   "version": "2.3.4"
  }
 },
 "nbformat": 4,
 "nbformat_minor": 5
}
